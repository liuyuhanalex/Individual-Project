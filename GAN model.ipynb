{
 "cells": [
  {
   "cell_type": "markdown",
   "metadata": {},
   "source": [
    "# Play around with GAN model using MNIST dataset"
   ]
  },
  {
   "cell_type": "code",
   "execution_count": 70,
   "metadata": {},
   "outputs": [],
   "source": [
    "import keras\n",
    "from keras.models import Sequential,Model\n",
    "from keras.datasets import mnist\n",
    "import matplotlib.pyplot as plt\n",
    "from keras.layers import Dense,LeakyReLU,Conv2D,Flatten,Input,Reshape,Dropout\n",
    "from keras import optimizers,initializers\n",
    "import numpy as np"
   ]
  },
  {
   "cell_type": "markdown",
   "metadata": {},
   "source": [
    "## Load the MNIST dataset"
   ]
  },
  {
   "cell_type": "code",
   "execution_count": 71,
   "metadata": {},
   "outputs": [],
   "source": [
    "# Load the MNIST dataset\n",
    "(X_train,y_train),(x_test,y_test) = mnist.load_data()"
   ]
  },
  {
   "cell_type": "markdown",
   "metadata": {},
   "source": [
    "## Print basic information about the dataset"
   ]
  },
  {
   "cell_type": "code",
   "execution_count": 72,
   "metadata": {},
   "outputs": [
    {
     "name": "stdout",
     "output_type": "stream",
     "text": [
      "The shape of the picture is(28, 28)\n",
      "Number of pictures in the train dataset(60000, 28, 28)\n"
     ]
    },
    {
     "data": {
      "image/png": "[encoded data removed]",
      "text/plain": [
       "<Figure size 432x288 with 1 Axes>"
      ]
     },
     "metadata": {
      "needs_background": "light"
     },
     "output_type": "display_data"
    }
   ],
   "source": [
    "# Get basic information about the data\n",
    "plt.imshow(X_train[0])\n",
    "print(\"The shape of the picture is\"+ str(X_train[0].shape))\n",
    "print(\"Number of pictures in the train dataset\"+str(X_train.shape))"
   ]
  },
  {
   "cell_type": "markdown",
   "metadata": {},
   "source": [
    "## Normalize the image from (0,255) into range(-1,1) "
   ]
  },
  {
   "cell_type": "code",
   "execution_count": 73,
   "metadata": {},
   "outputs": [
    {
     "name": "stdout",
     "output_type": "stream",
     "text": [
      "The maximum of the array 255\n",
      "The minimum of the array 0\n"
     ]
    }
   ],
   "source": [
    "Max = np.max(X_train[0])\n",
    "Min = np.min(X_train[0])\n",
    "Mid = (Max+Min)/2\n",
    "print(\"The maximum of the array \"+ str(Max))\n",
    "print(\"The minimum of the array \"+ str(Min))\n",
    "# Normalization the image into range(-1,1)\n",
    "X_train = (X_train.astype(np.float32) - Mid)/Mid"
   ]
  },
  {
   "cell_type": "markdown",
   "metadata": {},
   "source": [
    "## Define Generator \n",
    "#### I got this Adam parameter setting at a guy's github\n",
    "#### I checked some tips, for general, the parameter will set as alpha=0.001, beta1=0.9, beta2=0.999 and epsilon=10−8\n",
    "#### adam = optimizers.Adam(lr=0.0002, beta_1=0.5,beta_2=0.999,epsilon=None) \n",
    "#### Using one dense layer followed by three Conv2D layer"
   ]
  },
  {
   "cell_type": "code",
   "execution_count": 74,
   "metadata": {},
   "outputs": [],
   "source": [
    "# Define Generator \n",
    "# I got this Adam parameter setting at a guys github\n",
    "# I checked some tips, for general, the parameter will set as alpha=0.001, beta1=0.9, beta2=0.999 and epsilon=10−8\n",
    "adam = optimizers.Adam(lr=0.0002, beta_1=0.5,beta_2=0.999,epsilon=None) \n",
    "# Define Generator\n",
    "def build_generator(input_dim):\n",
    "    #Using one dense layer followed by three Conv2D layer\n",
    "    generator = Sequential()\n",
    "    generator.add(Dense(784,input_dim=input_dim))\n",
    "    generator.add(LeakyReLU(0.2))\n",
    "    generator.add(Reshape((28,28,1)))\n",
    "    generator.add(Conv2D(8,(3,3),padding='same'))\n",
    "    generator.add(LeakyReLU(0.2))\n",
    "    generator.add(Conv2D(16,(3,3),padding='same'))\n",
    "    generator.add(LeakyReLU(0.2))\n",
    "    generator.add(Conv2D(32,(3,3),padding='same'))\n",
    "    generator.add(LeakyReLU(0.2))\n",
    "    generator.add(Flatten())\n",
    "    generator.add(Dense(784,activation='tanh'))\n",
    "    generator.compile(optimizer =adam,loss='binary_crossentropy')\n",
    "    return generator"
   ]
  },
  {
   "cell_type": "markdown",
   "metadata": {},
   "source": [
    "## Define Discrimator\n",
    "#### Using five dense layers with leakyReLU and Drop out "
   ]
  },
  {
   "cell_type": "code",
   "execution_count": 75,
   "metadata": {},
   "outputs": [],
   "source": [
    "# Define Discriminator\n",
    "def build_discriminator():\n",
    "    # Using five dense layers with leakyReLU and Drop out \n",
    "    discriminator = Sequential()\n",
    "    discriminator.add(Dense(1024,input_dim=784))\n",
    "    discriminator.add(LeakyReLU(0.2))\n",
    "    discriminator.add(Dropout(0.5))\n",
    "    discriminator.add(Dense(512))\n",
    "    discriminator.add(LeakyReLU(0.2))\n",
    "    discriminator.add(Dropout(0.5))\n",
    "    discriminator.add(Dense(256))\n",
    "    discriminator.add(LeakyReLU(0.2))\n",
    "    discriminator.add(Dropout(0.5))\n",
    "    discriminator.add(Dense(128))\n",
    "    discriminator.add(LeakyReLU(0.2))\n",
    "    discriminator.add(Dropout(0.5))\n",
    "    discriminator.add(Dense(1,activation='sigmoid'))\n",
    "    discriminator.compile(optimizer =adam,loss='binary_crossentropy')\n",
    "    return discriminator"
   ]
  },
  {
   "cell_type": "markdown",
   "metadata": {},
   "source": [
    "## Define GAN"
   ]
  },
  {
   "cell_type": "code",
   "execution_count": 76,
   "metadata": {},
   "outputs": [],
   "source": [
    "# Define GAN Model\n",
    "def build_gan(input_dim):\n",
    "    generator = build_generator(input_dim)\n",
    "    discriminator = build_discriminator()\n",
    "    discriminator.trainable = False\n",
    "    inputs = Input(shape=(input_dim, ))\n",
    "    hidden = generator(inputs)\n",
    "    output = discriminator(hidden)\n",
    "    gan = Model(inputs, output)\n",
    "    gan.compile(loss='binary_crossentropy', optimizer=adam)\n",
    "    return generator,discriminator,gan"
   ]
  },
  {
   "cell_type": "markdown",
   "metadata": {},
   "source": [
    "## Define Training Process"
   ]
  },
  {
   "cell_type": "code",
   "execution_count": 77,
   "metadata": {},
   "outputs": [],
   "source": [
    "# Training\n",
    "def train(epochs=30, BATCH_SIZE=128,input_dim=100):\n",
    "    \n",
    "    # preprocessing\n",
    "    global X_train\n",
    "    X_train = X_train.reshape(60000, 784)\n",
    "    \n",
    "    # Information \n",
    "    batchCount = int(X_train.shape[0] / BATCH_SIZE)\n",
    "    print('Epochs:', epochs)\n",
    "    print('Batch size:', BATCH_SIZE)\n",
    "    print('Batches per epoch:', batchCount)\n",
    "    \n",
    "    G_loss = []\n",
    "    D_loss = []\n",
    "    \n",
    "    generator,discriminator,gan=build_gan(input_dim)\n",
    "    \n",
    "    for i in range(epochs):\n",
    "        \n",
    "        print(\"Begin the {} epochs!\".format(i))\n",
    "        \n",
    "        for _ in range(batchCount):  \n",
    "            # Create a batch by drawing random index numbers from the training set\n",
    "            image_batch = X_train[np.random.randint(0, X_train.shape[0], size=BATCH_SIZE)]\n",
    "            # Create noise vectors for the generator\n",
    "            noise = np.random.normal(0, 1, size=(BATCH_SIZE, 100))\n",
    "\n",
    "            # Generate the images from the noise\n",
    "            generated_images = generator.predict(noise)\n",
    "            X = np.concatenate((image_batch, generated_images))\n",
    "            # Create labels\n",
    "            y = np.zeros(2*BATCH_SIZE)\n",
    "            y[:BATCH_SIZE] = 1\n",
    "\n",
    "            # Train discriminator on generated images\n",
    "            discriminator.trainable = True\n",
    "            d_loss = discriminator.train_on_batch(X, y)\n",
    "\n",
    "            # Train generator\n",
    "            noise = np.random.normal(0, 1, size=(BATCH_SIZE, 100))\n",
    "            y2 = np.ones(BATCH_SIZE)\n",
    "            discriminator.trainable = False\n",
    "            g_loss = gan.train_on_batch(noise, y2)\n",
    "            \n",
    "        print(\"D_loss= \"+str(d_loss)+\",\"+\"G_loss =\"+str(g_loss))\n",
    "        D_loss.append(d_loss)\n",
    "        G_loss.append(g_loss)\n",
    "        \n",
    "    print(\"Training Finished!\")\n",
    "    return D_loss,G_loss,generator"
   ]
  },
  {
   "cell_type": "markdown",
   "metadata": {},
   "source": [
    "## Train the model here"
   ]
  },
  {
   "cell_type": "code",
   "execution_count": 78,
   "metadata": {},
   "outputs": [
    {
     "name": "stdout",
     "output_type": "stream",
     "text": [
      "Epochs: 30\n",
      "Batch size: 128\n",
      "Batches per epoch: 468\n",
      "Begin the 0 epochs!\n",
      "D_loss= 0.5260216,G_loss =1.4509838\n",
      "Begin the 1 epochs!\n",
      "D_loss= 0.43932644,G_loss =1.4266708\n",
      "Begin the 2 epochs!\n",
      "D_loss= 0.5735449,G_loss =1.3336158\n",
      "Begin the 3 epochs!\n",
      "D_loss= 0.58323765,G_loss =1.438453\n",
      "Begin the 4 epochs!\n",
      "D_loss= 0.5201396,G_loss =1.2342095\n",
      "Begin the 5 epochs!\n",
      "D_loss= 0.5618264,G_loss =0.9912689\n",
      "Begin the 6 epochs!\n",
      "D_loss= 0.61519533,G_loss =0.84859693\n",
      "Begin the 7 epochs!\n",
      "D_loss= 0.6502405,G_loss =0.71936655\n",
      "Begin the 8 epochs!\n",
      "D_loss= 0.6869073,G_loss =0.86185664\n",
      "Begin the 9 epochs!\n",
      "D_loss= 0.6472697,G_loss =0.84350646\n",
      "Begin the 10 epochs!\n",
      "D_loss= 0.67759407,G_loss =0.7770122\n",
      "Begin the 11 epochs!\n",
      "D_loss= 0.6770977,G_loss =0.762496\n",
      "Begin the 12 epochs!\n",
      "D_loss= 0.65979207,G_loss =0.76691216\n",
      "Begin the 13 epochs!\n",
      "D_loss= 0.66438526,G_loss =0.8143641\n",
      "Begin the 14 epochs!\n",
      "D_loss= 0.67885184,G_loss =0.78323054\n",
      "Begin the 15 epochs!\n",
      "D_loss= 0.6901113,G_loss =0.7817442\n",
      "Begin the 16 epochs!\n",
      "D_loss= 0.6721565,G_loss =0.7893505\n",
      "Begin the 17 epochs!\n",
      "D_loss= 0.65129185,G_loss =0.8181364\n",
      "Begin the 18 epochs!\n",
      "D_loss= 0.665303,G_loss =0.8001149\n",
      "Begin the 19 epochs!\n",
      "D_loss= 0.6596574,G_loss =0.75542545\n",
      "Begin the 20 epochs!\n",
      "D_loss= 0.6744815,G_loss =0.76305604\n",
      "Begin the 21 epochs!\n",
      "D_loss= 0.66280967,G_loss =0.75558275\n",
      "Begin the 22 epochs!\n",
      "D_loss= 0.6600363,G_loss =0.7117939\n",
      "Begin the 23 epochs!\n",
      "D_loss= 0.69693625,G_loss =0.8617517\n",
      "Begin the 24 epochs!\n",
      "D_loss= 0.70413387,G_loss =0.7803782\n",
      "Begin the 25 epochs!\n",
      "D_loss= 0.66192764,G_loss =0.7916312\n",
      "Begin the 26 epochs!\n",
      "D_loss= 0.6704836,G_loss =0.80048305\n",
      "Begin the 27 epochs!\n",
      "D_loss= 0.653324,G_loss =0.7743354\n",
      "Begin the 28 epochs!\n",
      "D_loss= 0.6526017,G_loss =0.8081485\n",
      "Begin the 29 epochs!\n",
      "D_loss= 0.67451346,G_loss =0.8004075\n",
      "Training Finished!\n"
     ]
    }
   ],
   "source": [
    "# Train the model and return D_loss, G_loss for plot loss tendency\n",
    "# Return generator for predict the image\n",
    "D_loss,G_loss,generator = train()"
   ]
  },
  {
   "cell_type": "markdown",
   "metadata": {},
   "source": [
    "## Define generate_image function to generate images"
   ]
  },
  {
   "cell_type": "code",
   "execution_count": 79,
   "metadata": {},
   "outputs": [],
   "source": [
    "# Generate images\n",
    "def generate_images(generator):\n",
    "    plt.clf()\n",
    "    np.random.seed(504)\n",
    "    h = w = 28\n",
    "    num_gen = 25\n",
    "\n",
    "    z = np.random.normal(0,1,size=[num_gen, 100])\n",
    "    generated_images = generator.predict(z)\n",
    "\n",
    "    # plot of generation\n",
    "    n = np.sqrt(num_gen).astype(np.int32)\n",
    "    I_generated = np.empty((h*n, w*n))\n",
    "    for i in range(n):\n",
    "        for j in range(n):\n",
    "            I_generated[i*h:(i+1)*h, j*w:(j+1)*w] = generated_images[i*n+j, :].reshape(28, 28)\n",
    "\n",
    "    plt.figure(figsize=(4, 4))\n",
    "    plt.axis(\"off\")\n",
    "    plt.imshow(I_generated, cmap='gray')\n",
    "    plt.show()"
   ]
  },
  {
   "cell_type": "markdown",
   "metadata": {},
   "source": [
    "## This is just an emaple result for 30 training epochs, not the best one, the best one with trained model is inside my zip file"
   ]
  },
  {
   "cell_type": "code",
   "execution_count": 80,
   "metadata": {},
   "outputs": [
    {
     "data": {
      "text/plain": [
       "<Figure size 432x288 with 0 Axes>"
      ]
     },
     "metadata": {},
     "output_type": "display_data"
    },
    {
     "data": {
      "image/png": "[encoded data removed]",
      "text/plain": [
       "<Figure size 288x288 with 1 Axes>"
      ]
     },
     "metadata": {
      "needs_background": "light"
     },
     "output_type": "display_data"
    }
   ],
   "source": [
    "generate_images(generator)"
   ]
  },
  {
   "cell_type": "code",
   "execution_count": 81,
   "metadata": {},
   "outputs": [
    {
     "data": {
      "text/plain": [
       "<matplotlib.legend.Legend at 0x7ff7201f42b0>"
      ]
     },
     "execution_count": 81,
     "metadata": {},
     "output_type": "execute_result"
    },
    {
     "data": {
      "image/png": "[encoded data removed]",
      "text/plain": [
       "<Figure size 432x288 with 1 Axes>"
      ]
     },
     "metadata": {
      "needs_background": "light"
     },
     "output_type": "display_data"
    }
   ],
   "source": [
    "plt.plot(G_loss)\n",
    "plt.plot(D_loss)\n",
    "plt.legend(['Generator loss','Discriminator loss'])"
   ]
  },
  {
   "cell_type": "code",
   "execution_count": null,
   "metadata": {},
   "outputs": [],
   "source": []
  }
 ],
 "metadata": {
  "kernelspec": {
   "display_name": "Python 3",
   "language": "python",
   "name": "python3"
  },
  "language_info": {
   "codemirror_mode": {
    "name": "ipython",
    "version": 3
   },
   "file_extension": ".py",
   "mimetype": "text/x-python",
   "name": "python",
   "nbconvert_exporter": "python",
   "pygments_lexer": "ipython3",
   "version": "3.6.7"
  }
 },
 "nbformat": 4,
 "nbformat_minor": 2
}
